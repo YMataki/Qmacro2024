{
 "cells": [
  {
   "cell_type": "markdown",
   "metadata": {
    "colab_type": "text",
    "id": "view-in-github"
   },
   "source": [
    "<a href=\"https://colab.research.google.com/github/tsenga2/keio-quant-macro/blob/main/gourio.ipynb\" target=\"_parent\"><img src=\"https://colab.research.google.com/assets/colab-badge.svg\" alt=\"Open In Colab\"/></a>"
   ]
  },
  {
   "cell_type": "code",
   "execution_count": 1,
   "metadata": {
    "id": "gUvDhwgDsxSn"
   },
   "outputs": [],
   "source": [
    "import numpy as np\n",
    "import matplotlib.pyplot as plt\n",
    "from scipy import interpolate\n",
    "from mpl_toolkits.mplot3d import Axes3D\n",
    "import time\n",
    "\n",
    "# Start timing\n",
    "tic = time.time()\n",
    "\n",
    "# Function: gridlookup\n",
    "def gridlookup(n, grid, val):\n",
    "    # Find the index of the closest value in the grid\n",
    "    idx = (np.abs(grid - val)).argmin()\n",
    "\n",
    "    # If the value is greater than the grid value, the weight is the difference\n",
    "    if val > grid[idx]:\n",
    "    #if val > grid[idx]:\n",
    "        weight = val - grid[idx]\n",
    "    # Otherwise, the weight is 1 minus the difference\n",
    "    else:\n",
    "        weight = 1 - (grid[idx] - val)\n",
    "\n",
    "    return idx, weight"
   ]
  },
  {
   "cell_type": "code",
   "execution_count": 2,
   "metadata": {
    "id": "x3MzsONMzvFB"
   },
   "outputs": [],
   "source": [
    "# Parameters\n",
    "alpha = 0.5\n",
    "delta = 0.167\n",
    "r = 0.04\n",
    "rho = 0.55\n",
    "mu = 0\n",
    "sigma = 0.35\n",
    "\n",
    "# Setup a grid for capital\n",
    "nk = 200\n",
    "kmin = 0.001\n",
    "kmax = 20\n",
    "kgrid = np.linspace(kmin, kmax, nk)\n",
    "# Setup a grid for productivity\n",
    "nz = 5\n",
    "\n",
    "# Discrete-state approximation to AR1\n",
    "# log(Z') = rho*log(Z) + (1-rho)*mu + sigma*epsilon\n",
    "z = [-0.942927835640568, -0.471463917820284, 0, 0.471463917820284, 0.942927835640568]\n",
    "Z = np.exp(z)\n",
    "Pie = np.array([[0.295006943581673, 0.495512193838656, 0.193910257281772, 0.015339978264313, 0.000230627033585],\n",
    "              [0.100327482548650, 0.426521772368601, 0.394527290061208, 0.075746025821068, 0.002877429200473],\n",
    "              [0.021662684832732, 0.228645617148758, 0.499383396037020, 0.228645617148758, 0.021662684832732],\n",
    "              [0.002877429200473, 0.075746025821068, 0.394527290061208, 0.426521772368602, 0.100327482548650],\n",
    "              [0.000230627033585, 0.015339978264313, 0.193910257281772, 0.495512193838656, 0.295006943581673]])"
   ]
  },
  {
   "cell_type": "code",
   "execution_count": null,
   "metadata": {
    "colab": {
     "base_uri": "https://localhost:8080/"
    },
    "id": "Zd6yp-wziw2v",
    "outputId": "9d20b890-3a1d-493d-f66a-bc6695d043f2"
   },
   "outputs": [
    {
     "name": "stdout",
     "output_type": "stream",
     "text": [
      "iteration    0 with norm 28.14115364\n",
      "iteration    1 with norm 3.57671539\n",
      "iteration    2 with norm 2.33524523\n",
      "iteration    3 with norm 1.80607091\n",
      "iteration    4 with norm 1.53682570\n",
      "iteration    5 with norm 1.38064772\n",
      "iteration    6 with norm 1.27876087\n",
      "iteration    7 with norm 1.20463541\n",
      "iteration    8 with norm 1.14544068\n",
      "iteration    9 with norm 1.09472357\n",
      "iteration   10 with norm 1.04916130\n",
      "iteration   11 with norm 1.00701254\n",
      "iteration   12 with norm 0.96734747\n",
      "iteration   13 with norm 0.92965625\n",
      "iteration   14 with norm 0.89364773\n",
      "iteration   15 with norm 0.85914535\n",
      "iteration   16 with norm 0.82603300\n",
      "iteration   17 with norm 0.79422698\n",
      "iteration   18 with norm 0.76366132\n",
      "iteration   19 with norm 0.73428012\n",
      "iteration   20 with norm 0.70603358\n",
      "iteration   30 with norm 0.47696702\n",
      "iteration   40 with norm 0.32222182\n",
      "iteration   50 with norm 0.21768152\n",
      "iteration   60 with norm 0.14705783\n",
      "iteration   70 with norm 0.09934700\n",
      "iteration   80 with norm 0.06711528\n",
      "iteration   90 with norm 0.04534068\n",
      "iteration  100 with norm 0.03063054\n",
      "iteration  110 with norm 0.02069289\n",
      "iteration  120 with norm 0.01397938\n",
      "iteration  130 with norm 0.00944397\n",
      "iteration  140 with norm 0.00638001\n",
      "iteration  150 with norm 0.00431010\n",
      "iteration  160 with norm 0.00291175\n",
      "iteration  170 with norm 0.00196707\n",
      "iteration  180 with norm 0.00132889\n",
      "iteration  190 with norm 0.00089775\n",
      "iteration  200 with norm 0.00060649\n",
      "iteration  210 with norm 0.00040972\n",
      "iteration  220 with norm 0.00027679\n",
      "iteration  230 with norm 0.00018699\n",
      "iteration  240 with norm 0.00012632\n",
      "iteration  250 with norm 0.00008534\n",
      "iteration  260 with norm 0.00005765\n",
      "iteration  270 with norm 0.00003895\n",
      "iteration  280 with norm 0.00002631\n",
      "iteration  290 with norm 0.00001778\n",
      "iteration  300 with norm 0.00001201\n",
      "iteration  310 with norm 0.00000811\n",
      "iteration  320 with norm 0.00000548\n",
      "iteration  330 with norm 0.00000370\n",
      "iteration  340 with norm 0.00000250\n",
      "iteration  350 with norm 0.00000169\n"
     ]
    }
   ],
   "source": [
    "# Decision (VFI)\n",
    "v = np.zeros((nz, nk))\n",
    "Tv = np.zeros((nz, nk))\n",
    "g_vfi = np.zeros((nz, nk))\n",
    "\n",
    "tol = 1e-6\n",
    "\n",
    "for it in range(1000):\n",
    "    ev = Pie @ v\n",
    "\n",
    "    for i in range(nz):\n",
    "        Zval = Z[i]\n",
    "\n",
    "        for j in range(nk):\n",
    "            kval = kgrid[j]\n",
    "\n",
    "            RHS = np.empty(nk)\n",
    "            for jj in range(nk):\n",
    "                kfval = kgrid[jj]\n",
    "                RHS[jj] = Zval * kval**alpha - kfval + (1 - delta) * kval + (1 / (1 + r)) * ev[i, jj]\n",
    "\n",
    "            Tv[i, j] = np.max(RHS)\n",
    "            g_vfi[i, j] = kgrid[np.argmax(RHS)]\n",
    "\n",
    "    norm = np.max(np.abs(Tv - v))\n",
    "\n",
    "    # Print iteration information\n",
    "    if it < 20 or it % 10 == 0:\n",
    "      print(f'iteration {it:4} with norm {norm:9.8f}')\n",
    "\n",
    "    if norm < tol:\n",
    "        break\n",
    "\n",
    "    v = Tv\n",
    "    Tv = np.zeros((nz, nk))"
   ]
  },
  {
   "cell_type": "code",
   "execution_count": null,
   "metadata": {
    "colab": {
     "base_uri": "https://localhost:8080/"
    },
    "id": "w_cKZInkisKF",
    "outputId": "e9fabcf7-a161-4bc5-f441-27d075a59452"
   },
   "outputs": [],
   "source": [
    "# Distribution\n",
    "mu = np.zeros((nz, nk))\n",
    "mu[0, 0] = 1\n",
    "munext = np.zeros((nz, nk))\n",
    "\n",
    "for it in range(200):\n",
    "    for i in range(nz):\n",
    "        for j in range(nk):\n",
    "            muval = mu[i, j]\n",
    "\n",
    "            if muval > 0:\n",
    "                kloc, kweight = gridlookup(nk, kgrid, g_vfi[i, j])\n",
    "                for ii in range(nz):\n",
    "                    munext[ii, kloc] += Pie[i, ii] * kweight* muval\n",
    "                    munext[ii, kloc + 1] += Pie[i, ii] * (1 - kweight) * muval\n",
    "\n",
    "    error = np.max(np.abs(munext - mu))\n",
    "\n",
    "    print(f'iteration {it:4} with error {error:9.8f}')\n",
    "\n",
    "    if np.linalg.norm(munext - mu, np.inf) < tol:\n",
    "        break\n",
    "\n",
    "    mu = munext\n",
    "    munext = np.zeros((nz, nk))"
   ]
  },
  {
   "cell_type": "code",
   "execution_count": null,
   "metadata": {
    "colab": {
     "base_uri": "https://localhost:8080/"
    },
    "id": "oOeRO6kCzcpl",
    "outputId": "2021684b-f07d-4c04-c4f0-e05a222108cd"
   },
   "outputs": [],
   "source": [
    "# Aggregation\n",
    "yagg = 0\n",
    "kagg = 0\n",
    "\n",
    "for i in range(nz):\n",
    "    for j in range(nk):\n",
    "        muval = mu[i, j]\n",
    "        yagg += muval * Z[i] * kgrid[j]**alpha\n",
    "        kagg += muval * kgrid[j]\n",
    "\n",
    "tfp = np.exp(np.log(yagg) - alpha * np.log(kagg))\n",
    "\n",
    "print(f'log(Y) {np.log(yagg):.4f} log(K) {np.log(kagg):.4f} log(TFP) {np.log(tfp):.4f}')"
   ]
  },
  {
   "cell_type": "code",
   "execution_count": null,
   "metadata": {
    "colab": {
     "base_uri": "https://localhost:8080/"
    },
    "id": "QWtvpgUxzeA1",
    "outputId": "bdbc2438-e74b-4c00-d0f5-b064591ac964"
   },
   "outputs": [],
   "source": [
    "# analytical solution feasible\n",
    "mu = 0\n",
    "logy = mu + 0.5*(sigma**2/(1-rho)) + alpha/(1-alpha)*(mu+0.5*sigma**2) - alpha/(1-alpha)*np.log((r+delta)/alpha) + 0.5*alpha**2*(rho/(1-alpha))**2*(sigma**2/(1-rho**2)) + (rho**2/(1-alpha))*(sigma**2/(1-rho**2))\n",
    "logk = 1/(1-alpha)*(mu+0.5*sigma**2) - 1/(1-alpha)*np.log((r+delta)/alpha) + 0.5*(rho/(1-alpha))**2*(sigma**2/(1-rho**2))\n",
    "logtfp = mu + 0.5*(sigma**2/(1-rho)) + (rho**2*alpha)/(1-alpha)*((sigma**2)/(1-rho**2))*0.5\n",
    "\n",
    "print(f'log(Y) {logy:.4f} log(K) {logk:.4f} log(TFP) {logtfp:.4f}')"
   ]
  },
  {
   "cell_type": "code",
   "execution_count": null,
   "metadata": {
    "colab": {
     "base_uri": "https://localhost:8080/",
     "height": 490
    },
    "id": "IXtoMooHzYWo",
    "outputId": "0988ae9f-d23f-4fa4-a5aa-c78ad1b424e0"
   },
   "outputs": [],
   "source": [
    "# Plot figures\n",
    "fig = plt.figure('Gourio2008')\n",
    "\n",
    "ax1 = fig.add_subplot(1, 3, 1)\n",
    "ax1.plot(Z, g_vfi, '--or', linewidth=1)\n",
    "ax1.set_xlabel('Z')\n",
    "ax1.set_ylabel('$k\\'$')\n",
    "ax1.set_title('Policy function')\n",
    "\n",
    "ax2 = fig.add_subplot(1, 3, 2, projection='3d')\n",
    "X, Y = np.meshgrid(Z, kgrid)\n",
    "ax2.plot_surface(X, Y, v.T, cmap=plt.cm.coolwarm, linewidth=0, antialiased=False)\n",
    "ax2.set_xlabel('Z')\n",
    "ax2.set_ylabel('k')\n",
    "ax2.set_title('Value function')\n",
    "\n",
    "ax3 = fig.add_subplot(1, 3, 3, projection='3d')\n",
    "X, Y = np.meshgrid(Z, kgrid)\n",
    "ax3.plot_surface(X, Y, munext.T, cmap=plt.cm.coolwarm, linewidth=0, antialiased=False)\n",
    "ax3.set_xlabel('Z')\n",
    "ax3.set_ylabel('k')\n",
    "ax3.set_title('Distribution')\n",
    "\n",
    "# Stop timing\n",
    "toc = time.time()\n",
    "\n",
    "# Print the elapsed time\n",
    "print(\"Elapsed time: {} seconds\".format(toc - tic))"
   ]
  },
  {
   "cell_type": "code",
   "execution_count": null,
   "metadata": {},
   "outputs": [],
   "source": []
  }
 ],
 "metadata": {
  "colab": {
   "authorship_tag": "ABX9TyOCo8LYML5YflTHaN0lX5f7",
   "include_colab_link": true,
   "provenance": []
  },
  "kernelspec": {
   "display_name": "Python 3 (ipykernel)",
   "language": "python",
   "name": "python3"
  },
  "language_info": {
   "codemirror_mode": {
    "name": "ipython",
    "version": 3
   },
   "file_extension": ".py",
   "mimetype": "text/x-python",
   "name": "python",
   "nbconvert_exporter": "python",
   "pygments_lexer": "ipython3",
   "version": "3.9.12"
  }
 },
 "nbformat": 4,
 "nbformat_minor": 1
}
